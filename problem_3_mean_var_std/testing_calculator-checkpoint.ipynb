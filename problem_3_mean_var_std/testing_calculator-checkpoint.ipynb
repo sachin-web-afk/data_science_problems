{
 "cells": [
  {
   "cell_type": "code",
   "execution_count": null,
   "id": "411e74dc-8b59-411f-941b-69613930b06b",
   "metadata": {},
   "outputs": [],
   "source": [
    "result = calculate([0,1,2,3,4,5,6,7,8])\n",
    "print(result)"
   ]
  },
  {
   "cell_type": "code",
   "execution_count": null,
   "id": "9edc0a79-1c5e-4ca2-b862-3adc93d7a5ae",
   "metadata": {},
   "outputs": [],
   "source": []
  }
 ],
 "metadata": {
  "kernelspec": {
   "display_name": "Python 3 (ipykernel)",
   "language": "python",
   "name": "python3"
  },
  "language_info": {
   "codemirror_mode": {
    "name": "ipython",
    "version": 3
   },
   "file_extension": ".py",
   "mimetype": "text/x-python",
   "name": "python",
   "nbconvert_exporter": "python",
   "pygments_lexer": "ipython3",
   "version": "3.11.9"
  }
 },
 "nbformat": 4,
 "nbformat_minor": 5
}

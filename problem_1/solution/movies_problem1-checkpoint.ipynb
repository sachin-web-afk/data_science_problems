{
 "cells": [
  {
   "cell_type": "code",
   "execution_count": null,
   "id": "abeb5dd7-7781-4a44-b2d9-69611837a128",
   "metadata": {},
   "outputs": [],
   "source": [
    "import pandas as pd\n",
    "import numpy as np\n",
    "movies_df=pd.read_csv('testmovies.csv',header=None,sep='|',names = ['color', 'director_name', 'num_critic_for_reviews', 'duration',\n",
    "                'gross', 'movie_title', 'num_user_for_reviews',\t'country',\n",
    "                'cotent_rating', 'budget', 'title_year', 'imdb_score', 'genre'],skiprows=[1,2,3],na_values='?',thousands=','\n",
    ")\n",
    "movies_df.set_index('movie_title',inplace=True)\n",
    "movies_df\n"
   ]
  }
 ],
 "metadata": {
  "kernelspec": {
   "display_name": "Python 3 (ipykernel)",
   "language": "python",
   "name": "python3"
  },
  "language_info": {
   "codemirror_mode": {
    "name": "ipython",
    "version": 3
   },
   "file_extension": ".py",
   "mimetype": "text/x-python",
   "name": "python",
   "nbconvert_exporter": "python",
   "pygments_lexer": "ipython3",
   "version": "3.11.9"
  }
 },
 "nbformat": 4,
 "nbformat_minor": 5
}

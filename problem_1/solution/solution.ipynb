movies_df=pd.read_csv('testmovies.csv',header=None,sep='|',names = ['color', 'director_name', 'num_critic_for_reviews', 'duration',
                'gross', 'movie_title', 'num_user_for_reviews',	'country',
                'cotent_rating', 'budget', 'title_year', 'imdb_score', 'genre'],skiprows=[1,2,3],na_values='?',thousands=','
)
movies_df.set_index('movie_title',inplace=True)
movies_df

